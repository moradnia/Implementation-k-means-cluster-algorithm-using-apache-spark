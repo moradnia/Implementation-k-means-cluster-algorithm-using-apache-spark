{
  "nbformat": 4,
  "nbformat_minor": 0,
  "metadata": {
    "colab": {
      "name": "final_kmeans_pyspark.ipynb",
      "provenance": [],
      "collapsed_sections": []
    },
    "kernelspec": {
      "name": "python3",
      "display_name": "Python 3"
    },
    "language_info": {
      "name": "python"
    }
  },
  "cells": [
    {
      "cell_type": "markdown",
      "metadata": {
        "id": "8GRQQ2GC5x2h"
      },
      "source": [
        "# **Import Library**"
      ]
    },
    {
      "cell_type": "code",
      "metadata": {
        "id": "c9WOiVstxp_y"
      },
      "source": [
        "import pandas as pd\n",
        "import numpy as np\n",
        "import matplotlib.pyplot as plt\n",
        "import seaborn as sns\n",
        "from pyspark.sql import SparkSession\n",
        "from pyspark.ml.clustering import KMeans\n",
        "import findspark\n",
        "from pyspark.ml.linalg import Vectors\n",
        "from pyspark.ml.feature import VectorAssembler\n",
        "from pyspark.ml.feature import StandardScaler\n",
        "from pyspark.ml.evaluation import  ClusteringEvaluator\n",
        "from pyspark.sql import Row\n",
        "from pyspark.sql.types import StructField, StructType, StringType, LongType,IntegerType\n",
        "from pyspark.sql import functions as f"
      ],
      "execution_count": 2,
      "outputs": []
    },
    {
      "cell_type": "markdown",
      "metadata": {
        "id": "-NBniwak55t1"
      },
      "source": [
        "# **Install Requirment**"
      ]
    },
    {
      "cell_type": "code",
      "metadata": {
        "id": "w4765Bzj1LPJ"
      },
      "source": [
        "!apt-get install openjdk-8-jdk-headless -qq > /dev/null"
      ],
      "execution_count": 3,
      "outputs": []
    },
    {
      "cell_type": "code",
      "metadata": {
        "id": "d0J0-xv71OVt"
      },
      "source": [
        "!wget -q https://downloads.apache.org/spark/spark-3.1.1/spark-3.1.1-bin-hadoop2.7.tgz"
      ],
      "execution_count": 4,
      "outputs": []
    },
    {
      "cell_type": "code",
      "metadata": {
        "id": "tJ6I3GVx1OX0"
      },
      "source": [
        "!tar xf spark-3.1.1-bin-hadoop2.7.tgz"
      ],
      "execution_count": 5,
      "outputs": []
    },
    {
      "cell_type": "code",
      "metadata": {
        "id": "molikK9L1OZ7"
      },
      "source": [
        "!pip install -q findspark"
      ],
      "execution_count": 6,
      "outputs": []
    },
    {
      "cell_type": "markdown",
      "metadata": {
        "id": "8bgWNcRo7Qhc"
      },
      "source": [
        "# **Setup Envirment**"
      ]
    },
    {
      "cell_type": "code",
      "metadata": {
        "id": "Aoo_n4d81Od9"
      },
      "source": [
        "import os\n",
        "os.environ[\"JAVA_HOME\"] = \"/usr/lib/jvm/java-8-openjdk-amd64\"\n",
        "os.environ[\"SPARK_HOME\"] = \"/content/spark-3.1.1-bin-hadoop2.7\""
      ],
      "execution_count": 7,
      "outputs": []
    },
    {
      "cell_type": "code",
      "metadata": {
        "id": "39wF721s1OgL"
      },
      "source": [
        "\n",
        "findspark.init()"
      ],
      "execution_count": 8,
      "outputs": []
    },
    {
      "cell_type": "code",
      "metadata": {
        "colab": {
          "base_uri": "https://localhost:8080/",
          "height": 35
        },
        "id": "fE3j7lQc1OiJ",
        "outputId": "cd92cd3e-1984-4fee-a9b8-89b2a9573683"
      },
      "source": [
        "findspark.find()"
      ],
      "execution_count": 9,
      "outputs": [
        {
          "output_type": "execute_result",
          "data": {
            "application/vnd.google.colaboratory.intrinsic+json": {
              "type": "string"
            },
            "text/plain": [
              "'/content/spark-3.1.1-bin-hadoop2.7'"
            ]
          },
          "metadata": {
            "tags": []
          },
          "execution_count": 9
        }
      ]
    },
    {
      "cell_type": "code",
      "metadata": {
        "id": "XhZhXavK1aQW"
      },
      "source": [
        "spark = SparkSession.builder.appName('kmeans').getOrCreate()"
      ],
      "execution_count": 14,
      "outputs": []
    },
    {
      "cell_type": "markdown",
      "metadata": {
        "id": "fILMkeG67XQE"
      },
      "source": [
        "# **Load Datasets**"
      ]
    },
    {
      "cell_type": "code",
      "metadata": {
        "id": "2AzFkyQv1aSn"
      },
      "source": [
        "df = spark.read.csv(\"/content/seeds_dataset.csv\",header=True,inferSchema=True)"
      ],
      "execution_count": 15,
      "outputs": []
    },
    {
      "cell_type": "code",
      "metadata": {
        "colab": {
          "base_uri": "https://localhost:8080/"
        },
        "id": "CzCqPc8v1aUe",
        "outputId": "63b71285-73ae-411f-ccb9-e036b6dcda26"
      },
      "source": [
        "df.show(5)"
      ],
      "execution_count": 16,
      "outputs": [
        {
          "output_type": "stream",
          "text": [
            "+-----+---------+-----------+------------------+------------------+---------------------+----------------+\n",
            "| area|perimeter|compactness|  length_of_kernel|   width_of_kernel|asymmetry_coefficient|length_of_groove|\n",
            "+-----+---------+-----------+------------------+------------------+---------------------+----------------+\n",
            "|15.26|    14.84|      0.871|             5.763|             3.312|                2.221|            5.22|\n",
            "|14.88|    14.57|     0.8811| 5.553999999999999|             3.333|                1.018|           4.956|\n",
            "|14.29|    14.09|      0.905|             5.291|3.3369999999999997|                2.699|           4.825|\n",
            "|13.84|    13.94|     0.8955|             5.324|3.3789999999999996|                2.259|           4.805|\n",
            "|16.14|    14.99|     0.9034|5.6579999999999995|             3.562|                1.355|           5.175|\n",
            "+-----+---------+-----------+------------------+------------------+---------------------+----------------+\n",
            "only showing top 5 rows\n",
            "\n"
          ],
          "name": "stdout"
        }
      ]
    },
    {
      "cell_type": "code",
      "metadata": {
        "colab": {
          "base_uri": "https://localhost:8080/"
        },
        "id": "LLTb5WpY1aWa",
        "outputId": "839878ce-4483-487c-e90d-1657bc0d99ab"
      },
      "source": [
        "df.describe().show()"
      ],
      "execution_count": 17,
      "outputs": [
        {
          "output_type": "stream",
          "text": [
            "+-------+------------------+------------------+--------------------+-------------------+------------------+---------------------+-------------------+\n",
            "|summary|              area|         perimeter|         compactness|   length_of_kernel|   width_of_kernel|asymmetry_coefficient|   length_of_groove|\n",
            "+-------+------------------+------------------+--------------------+-------------------+------------------+---------------------+-------------------+\n",
            "|  count|               210|               210|                 210|                210|               210|                  210|                210|\n",
            "|   mean|14.847523809523816|14.559285714285718|  0.8709985714285714|  5.628533333333335| 3.258604761904762|   3.7001999999999997|  5.408071428571429|\n",
            "| stddev|2.9096994306873647|1.3059587265640225|0.023629416583846364|0.44306347772644983|0.3777144449065867|   1.5035589702547392|0.49148049910240543|\n",
            "|    min|             10.59|             12.41|              0.8081|              4.899|              2.63|                0.765|              4.519|\n",
            "|    max|             21.18|             17.25|              0.9183|              6.675|             4.033|                8.456|               6.55|\n",
            "+-------+------------------+------------------+--------------------+-------------------+------------------+---------------------+-------------------+\n",
            "\n"
          ],
          "name": "stdout"
        }
      ]
    },
    {
      "cell_type": "code",
      "metadata": {
        "colab": {
          "base_uri": "https://localhost:8080/"
        },
        "id": "jg_O7scm4Jiw",
        "outputId": "643038eb-5202-47c2-d942-4e7902fb31db"
      },
      "source": [
        "df.columns"
      ],
      "execution_count": 18,
      "outputs": [
        {
          "output_type": "execute_result",
          "data": {
            "text/plain": [
              "['area',\n",
              " 'perimeter',\n",
              " 'compactness',\n",
              " 'length_of_kernel',\n",
              " 'width_of_kernel',\n",
              " 'asymmetry_coefficient',\n",
              " 'length_of_groove']"
            ]
          },
          "metadata": {
            "tags": []
          },
          "execution_count": 18
        }
      ]
    },
    {
      "cell_type": "markdown",
      "metadata": {
        "id": "Nugmg8ZX7vjV"
      },
      "source": [
        "# **VectorAssembler**"
      ]
    },
    {
      "cell_type": "code",
      "metadata": {
        "id": "mqWzp9Uo4Jnw"
      },
      "source": [
        "assembler = VectorAssembler(inputCols=df.columns,outputCol='features')"
      ],
      "execution_count": 20,
      "outputs": []
    },
    {
      "cell_type": "code",
      "metadata": {
        "id": "gWxoOv2F4Jpl"
      },
      "source": [
        "df_final = assembler.transform(df)"
      ],
      "execution_count": 21,
      "outputs": []
    },
    {
      "cell_type": "code",
      "metadata": {
        "colab": {
          "base_uri": "https://localhost:8080/"
        },
        "id": "cMgkwVl14u2V",
        "outputId": "2f432195-bd03-4654-a1d0-d3af010413e9"
      },
      "source": [
        "df_final.show()"
      ],
      "execution_count": 22,
      "outputs": [
        {
          "output_type": "stream",
          "text": [
            "+-----+---------+-----------+------------------+------------------+---------------------+------------------+--------------------+\n",
            "| area|perimeter|compactness|  length_of_kernel|   width_of_kernel|asymmetry_coefficient|  length_of_groove|            features|\n",
            "+-----+---------+-----------+------------------+------------------+---------------------+------------------+--------------------+\n",
            "|15.26|    14.84|      0.871|             5.763|             3.312|                2.221|              5.22|[15.26,14.84,0.87...|\n",
            "|14.88|    14.57|     0.8811| 5.553999999999999|             3.333|                1.018|             4.956|[14.88,14.57,0.88...|\n",
            "|14.29|    14.09|      0.905|             5.291|3.3369999999999997|                2.699|             4.825|[14.29,14.09,0.90...|\n",
            "|13.84|    13.94|     0.8955|             5.324|3.3789999999999996|                2.259|             4.805|[13.84,13.94,0.89...|\n",
            "|16.14|    14.99|     0.9034|5.6579999999999995|             3.562|                1.355|             5.175|[16.14,14.99,0.90...|\n",
            "|14.38|    14.21|     0.8951|             5.386|             3.312|   2.4619999999999997|             4.956|[14.38,14.21,0.89...|\n",
            "|14.69|    14.49|     0.8799|             5.563|             3.259|   3.5860000000000003| 5.218999999999999|[14.69,14.49,0.87...|\n",
            "|14.11|     14.1|     0.8911|              5.42|             3.302|                  2.7|               5.0|[14.11,14.1,0.891...|\n",
            "|16.63|    15.46|     0.8747|             6.053|             3.465|                 2.04| 5.877000000000001|[16.63,15.46,0.87...|\n",
            "|16.44|    15.25|      0.888|5.8839999999999995|             3.505|                1.969|5.5329999999999995|[16.44,15.25,0.88...|\n",
            "|15.26|    14.85|     0.8696|5.7139999999999995|             3.242|                4.543|             5.314|[15.26,14.85,0.86...|\n",
            "|14.03|    14.16|     0.8796|             5.438|             3.201|   1.7169999999999999|             5.001|[14.03,14.16,0.87...|\n",
            "|13.89|    14.02|      0.888|             5.439|             3.199|                3.986|             4.738|[13.89,14.02,0.88...|\n",
            "|13.78|    14.06|     0.8759|             5.479|             3.156|                3.136|             4.872|[13.78,14.06,0.87...|\n",
            "|13.74|    14.05|     0.8744|             5.482|             3.114|                2.932|             4.825|[13.74,14.05,0.87...|\n",
            "|14.59|    14.28|     0.8993|             5.351|             3.333|                4.185| 4.781000000000001|[14.59,14.28,0.89...|\n",
            "|13.99|    13.83|     0.9183|             5.119|             3.383|                5.234| 4.781000000000001|[13.99,13.83,0.91...|\n",
            "|15.69|    14.75|     0.9058|             5.527|             3.514|                1.599|             5.046|[15.69,14.75,0.90...|\n",
            "| 14.7|    14.21|     0.9153|             5.205|             3.466|                1.767|             4.649|[14.7,14.21,0.915...|\n",
            "|12.72|    13.57|     0.8686|             5.226|             3.049|                4.102|             4.914|[12.72,13.57,0.86...|\n",
            "+-----+---------+-----------+------------------+------------------+---------------------+------------------+--------------------+\n",
            "only showing top 20 rows\n",
            "\n"
          ],
          "name": "stdout"
        }
      ]
    },
    {
      "cell_type": "markdown",
      "metadata": {
        "id": "1zdWjfqn70Kd"
      },
      "source": [
        "# **Scaling**"
      ]
    },
    {
      "cell_type": "code",
      "metadata": {
        "id": "5dxY04t-4JxZ"
      },
      "source": [
        "scaler = StandardScaler(inputCol=\"features\", outputCol=\"scaledFeatures\", withStd=True, withMean=False)"
      ],
      "execution_count": 24,
      "outputs": []
    },
    {
      "cell_type": "code",
      "metadata": {
        "id": "cdo5VZrL4Jz2"
      },
      "source": [
        "scaledModel = scaler.fit(df_final)"
      ],
      "execution_count": 25,
      "outputs": []
    },
    {
      "cell_type": "code",
      "metadata": {
        "id": "UGCEBiVm4J2G"
      },
      "source": [
        "df_final = scaledModel.transform(df_final)"
      ],
      "execution_count": 26,
      "outputs": []
    },
    {
      "cell_type": "code",
      "metadata": {
        "colab": {
          "base_uri": "https://localhost:8080/"
        },
        "id": "Xkbaj3Oy4J4x",
        "outputId": "6cafe1a0-b0e1-4ba2-a1ae-b468b5a5ff02"
      },
      "source": [
        "df_final.show(2)"
      ],
      "execution_count": 143,
      "outputs": [
        {
          "output_type": "stream",
          "text": [
            "+-----+---------+-----------+-----------------+---------------+---------------------+----------------+--------------------+--------------------+\n",
            "| area|perimeter|compactness| length_of_kernel|width_of_kernel|asymmetry_coefficient|length_of_groove|            features|      scaledFeatures|\n",
            "+-----+---------+-----------+-----------------+---------------+---------------------+----------------+--------------------+--------------------+\n",
            "|15.26|    14.84|      0.871|            5.763|          3.312|                2.221|            5.22|[15.26,14.84,0.87...|[5.24452795332028...|\n",
            "|14.88|    14.57|     0.8811|5.553999999999999|          3.333|                1.018|           4.956|[14.88,14.57,0.88...|[5.11393027165175...|\n",
            "+-----+---------+-----------+-----------------+---------------+---------------------+----------------+--------------------+--------------------+\n",
            "only showing top 2 rows\n",
            "\n"
          ],
          "name": "stdout"
        }
      ]
    },
    {
      "cell_type": "markdown",
      "metadata": {
        "id": "x3LIJLno75Ol"
      },
      "source": [
        "# **Implement Kmeans**\n"
      ]
    },
    {
      "cell_type": "code",
      "metadata": {
        "id": "Ae8WX4id4J6w"
      },
      "source": [
        "kmeans = KMeans(featuresCol='scaledFeatures',k=3)\n",
        "model = kmeans.fit(df_final)"
      ],
      "execution_count": 28,
      "outputs": []
    },
    {
      "cell_type": "code",
      "metadata": {
        "id": "TBD_f08T4J9G"
      },
      "source": [
        "pred = model.transform(df_final)"
      ],
      "execution_count": 29,
      "outputs": []
    },
    {
      "cell_type": "markdown",
      "metadata": {
        "id": "NHqjjdly9n_p"
      },
      "source": [
        "# **Evaluate**"
      ]
    },
    {
      "cell_type": "code",
      "metadata": {
        "colab": {
          "base_uri": "https://localhost:8080/"
        },
        "id": "4MEbI7nl4J_l",
        "outputId": "20b97baf-e6d7-4b21-c4c1-37679c7513ad"
      },
      "source": [
        "eval = ClusteringEvaluator()\n",
        "silhouette = eval.evaluate(pred)\n",
        "print(f'silhouette with squared eculidean distance : {silhouette}')"
      ],
      "execution_count": 30,
      "outputs": [
        {
          "output_type": "stream",
          "text": [
            "silhouette with squared eculidean distance : 0.6300001033389961\n"
          ],
          "name": "stdout"
        }
      ]
    },
    {
      "cell_type": "markdown",
      "metadata": {
        "id": "Gs-0k4_n9s1M"
      },
      "source": [
        "# **Centers**"
      ]
    },
    {
      "cell_type": "code",
      "metadata": {
        "colab": {
          "base_uri": "https://localhost:8080/"
        },
        "id": "NbxijY2s4KB5",
        "outputId": "14f5b0d9-d835-488b-dbc6-0228ae36fa5c"
      },
      "source": [
        "centers = model.clusterCenters()\n",
        "print('cluster center')\n",
        "for center in centers:\n",
        "  print(center)"
      ],
      "execution_count": 31,
      "outputs": [
        {
          "output_type": "stream",
          "text": [
            "cluster center\n",
            "[ 6.35645488 12.40730852 37.41990178 13.93860446  9.7892399   2.41585013\n",
            " 12.29286107]\n",
            "[ 4.07497225 10.14410142 35.89816849 11.80812742  7.54416916  3.15410901\n",
            " 10.38031464]\n",
            "[ 4.96198582 10.97871333 37.30930808 12.44647267  8.62880781  1.80061978\n",
            " 10.41913733]\n"
          ],
          "name": "stdout"
        }
      ]
    },
    {
      "cell_type": "markdown",
      "metadata": {
        "id": "gyQzJ9R29yx0"
      },
      "source": [
        "# **Prediction**"
      ]
    },
    {
      "cell_type": "code",
      "metadata": {
        "colab": {
          "base_uri": "https://localhost:8080/"
        },
        "id": "n-bcqqfV4KEC",
        "outputId": "bcc87947-7224-472a-979e-30b6b4a5494a"
      },
      "source": [
        "transformed = model.transform(df_final).select('prediction')\n",
        "rows = transformed.collect()\n",
        "print(rows[:3])"
      ],
      "execution_count": 32,
      "outputs": [
        {
          "output_type": "stream",
          "text": [
            "[Row(prediction=2), Row(prediction=2), Row(prediction=2)]\n"
          ],
          "name": "stdout"
        }
      ]
    },
    {
      "cell_type": "code",
      "metadata": {
        "colab": {
          "base_uri": "https://localhost:8080/"
        },
        "id": "GJl4j8s_4KKx",
        "outputId": "76754b3e-205f-4383-b694-1c885d4f94af"
      },
      "source": [
        "print(len(rows))"
      ],
      "execution_count": 33,
      "outputs": [
        {
          "output_type": "stream",
          "text": [
            "210\n"
          ],
          "name": "stdout"
        }
      ]
    },
    {
      "cell_type": "code",
      "metadata": {
        "colab": {
          "base_uri": "https://localhost:8080/"
        },
        "id": "gg-BShRq4KNF",
        "outputId": "e91c1506-5d3d-40fc-98c8-9f6d2dfa70f6"
      },
      "source": [
        "rows[100:103]"
      ],
      "execution_count": 34,
      "outputs": [
        {
          "output_type": "execute_result",
          "data": {
            "text/plain": [
              "[Row(prediction=0), Row(prediction=0), Row(prediction=0)]"
            ]
          },
          "metadata": {
            "tags": []
          },
          "execution_count": 34
        }
      ]
    },
    {
      "cell_type": "code",
      "metadata": {
        "id": "Tm8JqMkX4KO1"
      },
      "source": [
        ""
      ],
      "execution_count": 35,
      "outputs": []
    },
    {
      "cell_type": "code",
      "metadata": {
        "colab": {
          "base_uri": "https://localhost:8080/"
        },
        "id": "gutlMU4n888j",
        "outputId": "198bb841-7c83-44e0-99cd-575b96e1b1d8"
      },
      "source": [
        "type(rows)"
      ],
      "execution_count": 36,
      "outputs": [
        {
          "output_type": "execute_result",
          "data": {
            "text/plain": [
              "list"
            ]
          },
          "metadata": {
            "tags": []
          },
          "execution_count": 36
        }
      ]
    },
    {
      "cell_type": "code",
      "metadata": {
        "colab": {
          "base_uri": "https://localhost:8080/"
        },
        "id": "BsqVgvEnlfal",
        "outputId": "2575c014-0f26-490c-dadc-e4c805754b73"
      },
      "source": [
        "print(len(rows))"
      ],
      "execution_count": 59,
      "outputs": [
        {
          "output_type": "stream",
          "text": [
            "210\n"
          ],
          "name": "stdout"
        }
      ]
    },
    {
      "cell_type": "markdown",
      "metadata": {
        "id": "38w4jOvy-EeE"
      },
      "source": [
        "# **Create DataFrame of prediction**"
      ]
    },
    {
      "cell_type": "code",
      "metadata": {
        "id": "1gV4EGuI9NmH"
      },
      "source": [
        "rdd = spark.sparkContext.parallelize(rows)"
      ],
      "execution_count": 62,
      "outputs": []
    },
    {
      "cell_type": "code",
      "metadata": {
        "id": "rdpfEfC0-DZA"
      },
      "source": [
        "schema = StructType([\n",
        "    StructField('prediction', IntegerType(), True)\n",
        "])"
      ],
      "execution_count": 63,
      "outputs": []
    },
    {
      "cell_type": "code",
      "metadata": {
        "colab": {
          "base_uri": "https://localhost:8080/"
        },
        "id": "u5i6Mr5j-bM9",
        "outputId": "6d59dccb-2733-4d0a-9d4c-5daa9ce148e9"
      },
      "source": [
        "df_2 = spark.createDataFrame(rdd,schema)\n",
        "print(df_2.schema)"
      ],
      "execution_count": 64,
      "outputs": [
        {
          "output_type": "stream",
          "text": [
            "StructType(List(StructField(prediction,IntegerType,true)))\n"
          ],
          "name": "stdout"
        }
      ]
    },
    {
      "cell_type": "code",
      "metadata": {
        "colab": {
          "base_uri": "https://localhost:8080/"
        },
        "id": "o7puNm86lmob",
        "outputId": "35d5ab99-21fb-4dde-b418-4b0caaba7715"
      },
      "source": [
        "df_2.columns"
      ],
      "execution_count": 65,
      "outputs": [
        {
          "output_type": "execute_result",
          "data": {
            "text/plain": [
              "['prediction']"
            ]
          },
          "metadata": {
            "tags": []
          },
          "execution_count": 65
        }
      ]
    },
    {
      "cell_type": "code",
      "metadata": {
        "colab": {
          "base_uri": "https://localhost:8080/"
        },
        "id": "bDO6opsClvA7",
        "outputId": "9bcab83c-fd1a-429c-b3ea-8ef1c8130311"
      },
      "source": [
        "df_2.count()"
      ],
      "execution_count": 84,
      "outputs": [
        {
          "output_type": "execute_result",
          "data": {
            "text/plain": [
              "210"
            ]
          },
          "metadata": {
            "tags": []
          },
          "execution_count": 84
        }
      ]
    },
    {
      "cell_type": "code",
      "metadata": {
        "colab": {
          "base_uri": "https://localhost:8080/"
        },
        "id": "cPCNFDyCmD4J",
        "outputId": "4ed0fe87-4514-451b-bb3d-0fa45c51d55b"
      },
      "source": [
        "df_final.count()"
      ],
      "execution_count": 85,
      "outputs": [
        {
          "output_type": "execute_result",
          "data": {
            "text/plain": [
              "210"
            ]
          },
          "metadata": {
            "tags": []
          },
          "execution_count": 85
        }
      ]
    },
    {
      "cell_type": "markdown",
      "metadata": {
        "id": "1zv2Qiew-NxK"
      },
      "source": [
        "# **Convert to Pandas DataFrame**"
      ]
    },
    {
      "cell_type": "code",
      "metadata": {
        "id": "7EfHZEBLp8KS"
      },
      "source": [
        "prediction_df = df_2.toPandas()"
      ],
      "execution_count": 87,
      "outputs": []
    },
    {
      "cell_type": "code",
      "metadata": {
        "colab": {
          "base_uri": "https://localhost:8080/"
        },
        "id": "3K48PE6WqKOT",
        "outputId": "4681b61e-d6ce-45de-8d2a-942570a27f78"
      },
      "source": [
        "prediction_df.shape"
      ],
      "execution_count": 88,
      "outputs": [
        {
          "output_type": "execute_result",
          "data": {
            "text/plain": [
              "(210, 1)"
            ]
          },
          "metadata": {
            "tags": []
          },
          "execution_count": 88
        }
      ]
    },
    {
      "cell_type": "code",
      "metadata": {
        "colab": {
          "base_uri": "https://localhost:8080/"
        },
        "id": "ixFL3EENqOPg",
        "outputId": "2e66b59d-e172-4ae1-e371-c6a45c155ebe"
      },
      "source": [
        "final_df.shape"
      ],
      "execution_count": 89,
      "outputs": [
        {
          "output_type": "execute_result",
          "data": {
            "text/plain": [
              "(210, 9)"
            ]
          },
          "metadata": {
            "tags": []
          },
          "execution_count": 89
        }
      ]
    },
    {
      "cell_type": "markdown",
      "metadata": {
        "id": "hR0-VffN-WO5"
      },
      "source": [
        "# **pre-process Data**"
      ]
    },
    {
      "cell_type": "code",
      "metadata": {
        "id": "w2rIWVZdqR6u"
      },
      "source": [
        "final_df.drop(['features','scaledFeatures'],axis=1,inplace=True)"
      ],
      "execution_count": 91,
      "outputs": []
    },
    {
      "cell_type": "code",
      "metadata": {
        "id": "MhMAHD7MtVL6"
      },
      "source": [
        "center1=[6.35645488,12.40730852,37.41990178,13.93860446,9.7892399,2.41585013,12.29286107]\n",
        "center2=[4.07497225,10.14410142,35.89816849,11.80812742,7.54416916,3.15410901,10.38031464]\n",
        "center3=[4.96198582,10.97871333,37.30930808,12.44647267,8.62880781,1.80061978,10.41913733]"
      ],
      "execution_count": 177,
      "outputs": []
    },
    {
      "cell_type": "code",
      "metadata": {
        "id": "lVWo-0b-yLPH"
      },
      "source": [
        "feature_df = df_final.toPandas()"
      ],
      "execution_count": 153,
      "outputs": []
    },
    {
      "cell_type": "code",
      "metadata": {
        "id": "PD548Y72zbXt"
      },
      "source": [
        "feature_df = feature_df.loc[:,'scaledFeatures']"
      ],
      "execution_count": 154,
      "outputs": []
    },
    {
      "cell_type": "code",
      "metadata": {
        "colab": {
          "base_uri": "https://localhost:8080/"
        },
        "id": "J5o8aigIyozt",
        "outputId": "66351771-778f-477b-cf69-7765f639004c"
      },
      "source": [
        "first = []\n",
        "two=[]\n",
        "three=[]\n",
        "four=[]\n",
        "five=[]\n",
        "six=[]\n",
        "seven=[]\n",
        "for x in feature_df:\n",
        "  first.append(x[0])\n",
        "  two.append(x[1])\n",
        "  three.append(x[2])\n",
        "  four.append(x[3])\n",
        "  five.append(x[4])\n",
        "  six.append(x[5])\n",
        "  seven.append(x[6])\n",
        "  \n",
        "li = []\n",
        "li.append(first)\n",
        "li.append(two)\n",
        "li.append(three)\n",
        "li.append(four)\n",
        "li.append(six)\n",
        "li.append(five)\n",
        "li.append(seven)\n",
        "print(len(li))"
      ],
      "execution_count": 156,
      "outputs": [
        {
          "output_type": "stream",
          "text": [
            "7\n"
          ],
          "name": "stdout"
        }
      ]
    },
    {
      "cell_type": "code",
      "metadata": {
        "colab": {
          "base_uri": "https://localhost:8080/"
        },
        "id": "EEk8txBKzxD-",
        "outputId": "39414905-c33d-4687-daf5-b6654211067e"
      },
      "source": [
        "frame = { 'area': pd.Series(first), 'perimeter': pd.Series(two),'compactness': pd.Series(three),\n",
        "         'length_of_kernel': pd.Series(four),'width_of_kernel': pd.Series(five) ,'asymmetry_coefficient': pd.Series(six), 'length_of_groove':pd.Series(seven) }\n",
        "df_fe = pd.DataFrame(frame)\n",
        "\n",
        "df_fe=pd.concat([df_fe,prediction_df])"
      ],
      "execution_count": 171,
      "outputs": [
        {
          "output_type": "stream",
          "text": [
            "/usr/local/lib/python3.7/dist-packages/ipykernel_launcher.py:6: UserWarning: Boolean Series key will be reindexed to match DataFrame index.\n",
            "  \n",
            "/usr/local/lib/python3.7/dist-packages/ipykernel_launcher.py:7: UserWarning: Boolean Series key will be reindexed to match DataFrame index.\n",
            "  import sys\n",
            "/usr/local/lib/python3.7/dist-packages/ipykernel_launcher.py:8: UserWarning: Boolean Series key will be reindexed to match DataFrame index.\n",
            "  \n"
          ],
          "name": "stderr"
        }
      ]
    },
    {
      "cell_type": "markdown",
      "metadata": {
        "id": "Mfa80pFg--dx"
      },
      "source": [
        "# **Clusters**"
      ]
    },
    {
      "cell_type": "code",
      "metadata": {
        "id": "9_QqsvTP-5mv"
      },
      "source": [
        "cluster1 = df_fe[df_concat.prediction==0]\n",
        "cluster2 = df_fe[df_concat.prediction==1]\n",
        "cluster3 = df_fe[df_concat.prediction==2]"
      ],
      "execution_count": null,
      "outputs": []
    },
    {
      "cell_type": "markdown",
      "metadata": {
        "id": "vy1Ly3ii_ElP"
      },
      "source": [
        "# **Plot centroid in clusters**"
      ]
    },
    {
      "cell_type": "code",
      "metadata": {
        "colab": {
          "base_uri": "https://localhost:8080/",
          "height": 786
        },
        "id": "qoS7S5JA0SQL",
        "outputId": "cf58db2c-ffbc-4c26-93b4-cb10c003a904"
      },
      "source": [
        "plt.figure(figsize=(12,10))\n",
        "sns.swarmplot(data=cluster1.iloc[:,:7],marker=\"*\")\n",
        "sns.scatterplot(data=pd.Series(center1),s=300,marker=\"+\",alpha=1)\n",
        "\n",
        "plt.show()"
      ],
      "execution_count": 191,
      "outputs": [
        {
          "output_type": "stream",
          "text": [
            "/usr/local/lib/python3.7/dist-packages/seaborn/categorical.py:1296: UserWarning: 11.2% of the points cannot be placed; you may want to decrease the size of the markers or use stripplot.\n",
            "  warnings.warn(msg, UserWarning)\n",
            "/usr/local/lib/python3.7/dist-packages/seaborn/categorical.py:1296: UserWarning: 9.7% of the points cannot be placed; you may want to decrease the size of the markers or use stripplot.\n",
            "  warnings.warn(msg, UserWarning)\n",
            "/usr/local/lib/python3.7/dist-packages/seaborn/categorical.py:1296: UserWarning: 5.2% of the points cannot be placed; you may want to decrease the size of the markers or use stripplot.\n",
            "  warnings.warn(msg, UserWarning)\n",
            "/usr/local/lib/python3.7/dist-packages/seaborn/categorical.py:1296: UserWarning: 8.2% of the points cannot be placed; you may want to decrease the size of the markers or use stripplot.\n",
            "  warnings.warn(msg, UserWarning)\n",
            "/usr/local/lib/python3.7/dist-packages/seaborn/categorical.py:1296: UserWarning: 9.0% of the points cannot be placed; you may want to decrease the size of the markers or use stripplot.\n",
            "  warnings.warn(msg, UserWarning)\n"
          ],
          "name": "stderr"
        },
        {
          "output_type": "display_data",
          "data": {
            "image/png": "[encoded data removed]",
            "text/plain": [
              "<Figure size 864x720 with 1 Axes>"
            ]
          },
          "metadata": {
            "tags": [],
            "needs_background": "light"
          }
        }
      ]
    },
    {
      "cell_type": "code",
      "metadata": {
        "colab": {
          "base_uri": "https://localhost:8080/",
          "height": 786
        },
        "id": "El50e4BK1jSs",
        "outputId": "ed17f732-4a41-4dee-fea3-e10c4943b5a8"
      },
      "source": [
        "plt.figure(figsize=(12,10))\n",
        "sns.swarmplot(data=cluster2.iloc[:,:7],marker=\"*\")\n",
        "sns.scatterplot(data=pd.Series(center2),marker=\"+\",s=300,alpha=1)\n",
        "\n",
        "plt.show()"
      ],
      "execution_count": 190,
      "outputs": [
        {
          "output_type": "stream",
          "text": [
            "/usr/local/lib/python3.7/dist-packages/seaborn/categorical.py:1296: UserWarning: 22.9% of the points cannot be placed; you may want to decrease the size of the markers or use stripplot.\n",
            "  warnings.warn(msg, UserWarning)\n",
            "/usr/local/lib/python3.7/dist-packages/seaborn/categorical.py:1296: UserWarning: 20.1% of the points cannot be placed; you may want to decrease the size of the markers or use stripplot.\n",
            "  warnings.warn(msg, UserWarning)\n",
            "/usr/local/lib/python3.7/dist-packages/seaborn/categorical.py:1296: UserWarning: 16.0% of the points cannot be placed; you may want to decrease the size of the markers or use stripplot.\n",
            "  warnings.warn(msg, UserWarning)\n",
            "/usr/local/lib/python3.7/dist-packages/seaborn/categorical.py:1296: UserWarning: 14.6% of the points cannot be placed; you may want to decrease the size of the markers or use stripplot.\n",
            "  warnings.warn(msg, UserWarning)\n",
            "/usr/local/lib/python3.7/dist-packages/seaborn/categorical.py:1296: UserWarning: 15.3% of the points cannot be placed; you may want to decrease the size of the markers or use stripplot.\n",
            "  warnings.warn(msg, UserWarning)\n"
          ],
          "name": "stderr"
        },
        {
          "output_type": "display_data",
          "data": {
            "image/png": "[encoded data removed]",
            "text/plain": [
              "<Figure size 864x720 with 1 Axes>"
            ]
          },
          "metadata": {
            "tags": [],
            "needs_background": "light"
          }
        }
      ]
    },
    {
      "cell_type": "code",
      "metadata": {
        "colab": {
          "base_uri": "https://localhost:8080/",
          "height": 716
        },
        "id": "LykkAWD93Dui",
        "outputId": "36368f1a-0196-4842-82c1-916d913458bf"
      },
      "source": [
        "plt.figure(figsize=(12,10))\n",
        "sns.swarmplot(data=cluster3.iloc[:,:7],marker=\"*\")\n",
        "sns.scatterplot(data=pd.Series(center3),s=300,marker=\"+\",alpha=1)\n",
        "\n",
        "plt.show()"
      ],
      "execution_count": 189,
      "outputs": [
        {
          "output_type": "stream",
          "text": [
            "/usr/local/lib/python3.7/dist-packages/seaborn/categorical.py:1296: UserWarning: 14.1% of the points cannot be placed; you may want to decrease the size of the markers or use stripplot.\n",
            "  warnings.warn(msg, UserWarning)\n",
            "/usr/local/lib/python3.7/dist-packages/seaborn/categorical.py:1296: UserWarning: 7.0% of the points cannot be placed; you may want to decrease the size of the markers or use stripplot.\n",
            "  warnings.warn(msg, UserWarning)\n",
            "/usr/local/lib/python3.7/dist-packages/seaborn/categorical.py:1296: UserWarning: 11.3% of the points cannot be placed; you may want to decrease the size of the markers or use stripplot.\n",
            "  warnings.warn(msg, UserWarning)\n"
          ],
          "name": "stderr"
        },
        {
          "output_type": "display_data",
          "data": {
            "image/png": "[encoded data removed]",
            "text/plain": [
              "<Figure size 864x720 with 1 Axes>"
            ]
          },
          "metadata": {
            "tags": [],
            "needs_background": "light"
          }
        }
      ]
    },
    {
      "cell_type": "code",
      "metadata": {
        "id": "b95HXHwk3Ge4"
      },
      "source": [
        ""
      ],
      "execution_count": null,
      "outputs": []
    }
  ]
}